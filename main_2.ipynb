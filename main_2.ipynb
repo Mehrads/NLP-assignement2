{
  "nbformat": 4,
  "nbformat_minor": 0,
  "metadata": {
    "colab": {
      "provenance": [],
      "gpuType": "T4",
      "authorship_tag": "ABX9TyPrCpC37Nzyy5Ex6A+XkQPE",
      "include_colab_link": true
    },
    "kernelspec": {
      "name": "python3",
      "display_name": "Python 3"
    },
    "language_info": {
      "name": "python"
    },
    "accelerator": "GPU"
  },
  "cells": [
    {
      "cell_type": "markdown",
      "metadata": {
        "id": "view-in-github",
        "colab_type": "text"
      },
      "source": [
        "<a href=\"https://colab.research.google.com/github/Mehrads/NLP-assignement2/blob/main/main_2.ipynb\" target=\"_parent\"><img src=\"https://colab.research.google.com/assets/colab-badge.svg\" alt=\"Open In Colab\"/></a>"
      ]
    },
    {
      "cell_type": "code",
      "execution_count": null,
      "metadata": {
        "id": "JeA5MbFz-b8G"
      },
      "outputs": [],
      "source": []
    },
    {
      "cell_type": "code",
      "source": [
        "from google.colab import drive\n",
        "drive.mount('/content/drive')"
      ],
      "metadata": {
        "colab": {
          "base_uri": "https://localhost:8080/"
        },
        "id": "mTgHfGfY-fHy",
        "outputId": "6429e932-f4c2-4f1a-f9e2-dd5ea99a929a"
      },
      "execution_count": 1,
      "outputs": [
        {
          "output_type": "stream",
          "name": "stdout",
          "text": [
            "Mounted at /content/drive\n"
          ]
        }
      ]
    },
    {
      "cell_type": "code",
      "source": [
        "\n",
        "import nltk\n",
        "nltk.download(\"brown\")\n",
        "from nltk.corpus import brown\n",
        "import numpy as np\n",
        "from gensim.models import Word2Vec\n",
        "from sklearn.feature_extraction.text import TfidfVectorizer as tfidf\n",
        "import pandas as pd\n",
        "from sklearn.metrics.pairwise import cosine_similarity\n",
        "import matplotlib.pyplot as plt\n",
        "from google.colab import drive\n",
        "drive.mount('/content/drive')"
      ],
      "metadata": {
        "colab": {
          "base_uri": "https://localhost:8080/"
        },
        "id": "PPl9Hkeg-i7J",
        "outputId": "6ebf3a9c-f2dc-4548-ccb1-2f411efd20c4"
      },
      "execution_count": 2,
      "outputs": [
        {
          "output_type": "stream",
          "name": "stderr",
          "text": [
            "[nltk_data] Downloading package brown to /root/nltk_data...\n",
            "[nltk_data]   Unzipping corpora/brown.zip.\n"
          ]
        },
        {
          "output_type": "stream",
          "name": "stdout",
          "text": [
            "Drive already mounted at /content/drive; to attempt to forcibly remount, call drive.mount(\"/content/drive\", force_remount=True).\n"
          ]
        }
      ]
    },
    {
      "cell_type": "code",
      "source": [
        "\n",
        "file = \"/content/drive/MyDrive/assignment1-nlp2/data/SimLex-999.txt\"\n",
        "sim_lex_corpus = pd.read_csv(file,sep=\"\\t\")\n",
        "wordlist1 = list()\n",
        "wordlist2 = list()\n",
        "similarity_score = list()\n",
        "for index,row in sim_lex_corpus.iterrows():\n",
        "  wordlist1.append(row[\"word1\"])\n",
        "  wordlist2.append(row[\"word2\"])\n",
        "  similarity_score.append(float(row[\"SimLex999\"]))"
      ],
      "metadata": {
        "id": "QgsWx7QU-xXa"
      },
      "execution_count": 3,
      "outputs": []
    },
    {
      "cell_type": "code",
      "source": [
        "tfIdfVectorizer=tfidf(use_idf=True)"
      ],
      "metadata": {
        "id": "AZcDJGEn-259"
      },
      "execution_count": 4,
      "outputs": []
    },
    {
      "cell_type": "code",
      "source": [
        "from sklearn.feature_extraction.text import TfidfVectorizer\n",
        "from sklearn.metrics.pairwise import cosine_similarity\n",
        "import pandas as pd\n",
        "from nltk.corpus import brown\n",
        "\n",
        "# Ensure you have downloaded the necessary NLTK data\n",
        "import nltk\n",
        "nltk.download('brown')\n",
        "\n",
        "# Convert the list of words in each sentence into a single string per sentence\n",
        "Corpus_data = [' '.join(sentence) for sentence in brown.sents(categories=['news'])]\n",
        "\n",
        "# Initialize the TfidfVectorizer\n",
        "tfIdfVectorizer = TfidfVectorizer()\n",
        "\n",
        "# Fit the model and transform the data\n",
        "tfIdf = tfIdfVectorizer.fit_transform(Corpus_data)\n",
        "\n",
        "# Create a DataFrame from the TF-IDF matrix, transpose it to match the dimensions for cosine similarity\n",
        "d = pd.DataFrame(tfIdf.T.todense())\n",
        "\n",
        "# Compute cosine similarity\n",
        "cos = cosine_similarity(d)\n",
        "\n",
        "# Extract the vocabulary\n",
        "vocabulary = list(tfIdfVectorizer.vocabulary_.keys())\n",
        "\n",
        "# Your subsequent analysis or operations\n"
      ],
      "metadata": {
        "colab": {
          "base_uri": "https://localhost:8080/"
        },
        "id": "k_F0yNqE-4-J",
        "outputId": "cee9f2f6-717e-476c-e42d-dfbc0b7ff393"
      },
      "execution_count": 6,
      "outputs": [
        {
          "output_type": "stream",
          "name": "stderr",
          "text": [
            "[nltk_data] Downloading package brown to /root/nltk_data...\n",
            "[nltk_data]   Package brown is already up-to-date!\n"
          ]
        }
      ]
    },
    {
      "cell_type": "code",
      "source": [
        "from gensim.models import Word2Vec\n",
        "from nltk.corpus import brown\n",
        "\n",
        "# Ensure you have downloaded the necessary NLTK data\n",
        "import nltk\n",
        "nltk.download('brown')\n",
        "\n",
        "window_size_list = [1, 2, 5, 10]\n",
        "vector_size_list = [10, 50, 100, 300]\n",
        "iteration_number = 1000\n",
        "sentences_list = [('news', [' '.join(sentence) for sentence in brown.sents(categories=['news'])]),\n",
        "                  ('romance', [' '.join(sentence) for sentence in brown.sents(categories=['romance'])])]\n",
        "\n",
        "for window_size in window_size_list:\n",
        "    for vector_size in vector_size_list:\n",
        "        for genre, sentences in sentences_list:\n",
        "            # Convert sentences into the format expected by Word2Vec (list of lists of tokens)\n",
        "            sentences = [sentence.split() for sentence in sentences]\n",
        "            model = Word2Vec(sentences=sentences, vector_size=vector_size, window=window_size, epochs=iteration_number, min_count=1, workers=2)\n",
        "            name = f'word2vec_genre_{genre}_vector_size_{vector_size}_window_size_{window_size}_iteration_number_{iteration_number}.model'\n",
        "            # Save the model\n",
        "            model.save(name)\n",
        "            print(f\"{name} trained successfully.\")\n"
      ],
      "metadata": {
        "colab": {
          "base_uri": "https://localhost:8080/"
        },
        "id": "XdWueYTh_Tse",
        "outputId": "4f124e4d-8aa5-4349-9b77-dbac49c63708"
      },
      "execution_count": 8,
      "outputs": [
        {
          "metadata": {
            "tags": null
          },
          "name": "stderr",
          "output_type": "stream",
          "text": [
            "[nltk_data] Downloading package brown to /root/nltk_data...\n",
            "[nltk_data]   Package brown is already up-to-date!\n"
          ]
        },
        {
          "output_type": "stream",
          "name": "stdout",
          "text": [
            "word2vec_genre_news_vector_size_10_window_size_1_iteration_number_1000.model trained successfully.\n",
            "word2vec_genre_romance_vector_size_10_window_size_1_iteration_number_1000.model trained successfully.\n",
            "word2vec_genre_news_vector_size_50_window_size_1_iteration_number_1000.model trained successfully.\n",
            "word2vec_genre_romance_vector_size_50_window_size_1_iteration_number_1000.model trained successfully.\n",
            "word2vec_genre_news_vector_size_100_window_size_1_iteration_number_1000.model trained successfully.\n",
            "word2vec_genre_romance_vector_size_100_window_size_1_iteration_number_1000.model trained successfully.\n",
            "word2vec_genre_news_vector_size_300_window_size_1_iteration_number_1000.model trained successfully.\n",
            "word2vec_genre_romance_vector_size_300_window_size_1_iteration_number_1000.model trained successfully.\n",
            "word2vec_genre_news_vector_size_10_window_size_2_iteration_number_1000.model trained successfully.\n",
            "word2vec_genre_romance_vector_size_10_window_size_2_iteration_number_1000.model trained successfully.\n",
            "word2vec_genre_news_vector_size_50_window_size_2_iteration_number_1000.model trained successfully.\n",
            "word2vec_genre_romance_vector_size_50_window_size_2_iteration_number_1000.model trained successfully.\n",
            "word2vec_genre_news_vector_size_100_window_size_2_iteration_number_1000.model trained successfully.\n",
            "word2vec_genre_romance_vector_size_100_window_size_2_iteration_number_1000.model trained successfully.\n",
            "word2vec_genre_news_vector_size_300_window_size_2_iteration_number_1000.model trained successfully.\n",
            "word2vec_genre_romance_vector_size_300_window_size_2_iteration_number_1000.model trained successfully.\n",
            "word2vec_genre_news_vector_size_10_window_size_5_iteration_number_1000.model trained successfully.\n",
            "word2vec_genre_romance_vector_size_10_window_size_5_iteration_number_1000.model trained successfully.\n",
            "word2vec_genre_news_vector_size_50_window_size_5_iteration_number_1000.model trained successfully.\n",
            "word2vec_genre_romance_vector_size_50_window_size_5_iteration_number_1000.model trained successfully.\n",
            "word2vec_genre_news_vector_size_100_window_size_5_iteration_number_1000.model trained successfully.\n",
            "word2vec_genre_romance_vector_size_100_window_size_5_iteration_number_1000.model trained successfully.\n",
            "word2vec_genre_news_vector_size_300_window_size_5_iteration_number_1000.model trained successfully.\n",
            "word2vec_genre_romance_vector_size_300_window_size_5_iteration_number_1000.model trained successfully.\n",
            "word2vec_genre_news_vector_size_10_window_size_10_iteration_number_1000.model trained successfully.\n",
            "word2vec_genre_romance_vector_size_10_window_size_10_iteration_number_1000.model trained successfully.\n",
            "word2vec_genre_news_vector_size_50_window_size_10_iteration_number_1000.model trained successfully.\n",
            "word2vec_genre_romance_vector_size_50_window_size_10_iteration_number_1000.model trained successfully.\n",
            "word2vec_genre_news_vector_size_100_window_size_10_iteration_number_1000.model trained successfully.\n",
            "word2vec_genre_romance_vector_size_100_window_size_10_iteration_number_1000.model trained successfully.\n",
            "word2vec_genre_news_vector_size_300_window_size_10_iteration_number_1000.model trained successfully.\n",
            "word2vec_genre_romance_vector_size_300_window_size_10_iteration_number_1000.model trained successfully.\n"
          ]
        }
      ]
    },
    {
      "cell_type": "code",
      "source": [
        "from gensim.models import Word2Vec\n",
        "\n",
        "# ... [Assuming you have the rest of your code here that loads the Word2Vec model] ...\n",
        "\n",
        "# Open a file to write the results\n",
        "with open('similar_words.txt', 'w') as outfile:\n",
        "    for word in wordlist1:\n",
        "        try:\n",
        "            # Find the most similar words and create a string representation\n",
        "            similar_words = model.wv.most_similar(str(word), topn=10)\n",
        "            similar_words_str = ', '.join([f\"{w[0]} ({w[1]:.4f})\" for w in similar_words])\n",
        "\n",
        "            # Write the results to the file\n",
        "            outfile.write(f'{word}: {similar_words_str}\\n')\n",
        "        except KeyError as e:\n",
        "            # If the word is not in the vocabulary, write an error message instead\n",
        "            outfile.write(f'{word}: Word not in vocabulary.\\n')\n",
        "        except Exception as e:\n",
        "            # Handle any other exceptions that may occur\n",
        "            outfile.write(f'Error processing word {word}: {str(e)}\\n')\n"
      ],
      "metadata": {
        "id": "u-Ei7P6Z_tGG"
      },
      "execution_count": 10,
      "outputs": []
    }
  ]
}